{
 "cells": [
  {
   "cell_type": "code",
   "execution_count": 197,
   "id": "0c7d95ce",
   "metadata": {},
   "outputs": [],
   "source": [
    "#I certify that the code and data in this assignment were generated independently, \n",
    "#using only the tools and resources defined in the course and that I did not receive any external help, \n",
    "#coaching or contributions during the production of this work."
   ]
  },
  {
   "cell_type": "code",
   "execution_count": 198,
   "id": "20120d53",
   "metadata": {},
   "outputs": [],
   "source": [
    "import pandas as pd\n",
    "import numpy as np\n",
    "import matplotlib.pyplot as plt\n",
    "import seaborn as sns"
   ]
  },
  {
   "cell_type": "code",
   "execution_count": 199,
   "id": "b2f8edcb",
   "metadata": {},
   "outputs": [],
   "source": [
    "penguin = pd.read_csv(\"penguins_size.csv\")"
   ]
  },
  {
   "cell_type": "code",
   "execution_count": 200,
   "id": "cbb411dc",
   "metadata": {},
   "outputs": [
    {
     "data": {
      "text/plain": [
       "2408"
      ]
     },
     "execution_count": 200,
     "metadata": {},
     "output_type": "execute_result"
    }
   ],
   "source": [
    "penguin.size"
   ]
  },
  {
   "cell_type": "code",
   "execution_count": 201,
   "id": "4fb25116",
   "metadata": {},
   "outputs": [
    {
     "data": {
      "text/plain": [
       "(344, 7)"
      ]
     },
     "execution_count": 201,
     "metadata": {},
     "output_type": "execute_result"
    }
   ],
   "source": [
    "penguin.shape"
   ]
  },
  {
   "cell_type": "code",
   "execution_count": 202,
   "id": "5e7f4b11",
   "metadata": {},
   "outputs": [
    {
     "data": {
      "text/plain": [
       "species               0\n",
       "island                0\n",
       "culmen_length_mm      2\n",
       "culmen_depth_mm       2\n",
       "flipper_length_mm     2\n",
       "body_mass_g           2\n",
       "sex                  10\n",
       "dtype: int64"
      ]
     },
     "execution_count": 202,
     "metadata": {},
     "output_type": "execute_result"
    }
   ],
   "source": [
    "penguin.isnull().sum()"
   ]
  },
  {
   "cell_type": "code",
   "execution_count": 203,
   "id": "28c7b96a",
   "metadata": {},
   "outputs": [
    {
     "name": "stdout",
     "output_type": "stream",
     "text": [
      "0    41.1\n",
      "dtype: float64\n"
     ]
    }
   ],
   "source": [
    "mode1 = penguin['culmen_length_mm'].mode()\n",
    "print(mode1)"
   ]
  },
  {
   "cell_type": "code",
   "execution_count": 204,
   "id": "e3a9bede",
   "metadata": {},
   "outputs": [],
   "source": [
    "penguin['culmen_length_mm'] = penguin['culmen_length_mm'].fillna(41.1) "
   ]
  },
  {
   "cell_type": "code",
   "execution_count": 205,
   "id": "00370d5b",
   "metadata": {},
   "outputs": [
    {
     "name": "stdout",
     "output_type": "stream",
     "text": [
      "0    17.0\n",
      "dtype: float64\n"
     ]
    }
   ],
   "source": [
    "mode2 = penguin['culmen_depth_mm'].mode()\n",
    "print(mode2)"
   ]
  },
  {
   "cell_type": "code",
   "execution_count": 206,
   "id": "a96d2571",
   "metadata": {},
   "outputs": [],
   "source": [
    "penguin['culmen_depth_mm'] = penguin['culmen_depth_mm'].fillna(17.0) "
   ]
  },
  {
   "cell_type": "code",
   "execution_count": 207,
   "id": "2333768e",
   "metadata": {},
   "outputs": [
    {
     "name": "stdout",
     "output_type": "stream",
     "text": [
      "0    190.0\n",
      "dtype: float64\n"
     ]
    }
   ],
   "source": [
    "mode3 = penguin['flipper_length_mm'].mode()\n",
    "print(mode3)"
   ]
  },
  {
   "cell_type": "code",
   "execution_count": 208,
   "id": "52e15657",
   "metadata": {},
   "outputs": [],
   "source": [
    "penguin['flipper_length_mm'] = penguin['flipper_length_mm'].fillna(190.0) "
   ]
  },
  {
   "cell_type": "code",
   "execution_count": 209,
   "id": "e1942e3a",
   "metadata": {},
   "outputs": [
    {
     "name": "stdout",
     "output_type": "stream",
     "text": [
      "0    3800.0\n",
      "dtype: float64\n"
     ]
    }
   ],
   "source": [
    "mode4 = penguin['body_mass_g'].mode()\n",
    "print(mode4)"
   ]
  },
  {
   "cell_type": "code",
   "execution_count": 210,
   "id": "e54cc737",
   "metadata": {},
   "outputs": [],
   "source": [
    "penguin['body_mass_g'] = penguin['body_mass_g'].fillna(3800.0) "
   ]
  },
  {
   "cell_type": "code",
   "execution_count": 211,
   "id": "71eeb463",
   "metadata": {},
   "outputs": [
    {
     "name": "stdout",
     "output_type": "stream",
     "text": [
      "0    MALE\n",
      "dtype: object\n"
     ]
    }
   ],
   "source": [
    "mode5 = penguin['sex'].mode()\n",
    "print(mode5)"
   ]
  },
  {
   "cell_type": "code",
   "execution_count": 212,
   "id": "3710c4da",
   "metadata": {},
   "outputs": [],
   "source": [
    "penguin['sex'] = penguin['sex'].fillna('MALE') "
   ]
  },
  {
   "cell_type": "code",
   "execution_count": 213,
   "id": "6e61be78",
   "metadata": {},
   "outputs": [
    {
     "data": {
      "text/plain": [
       "species              0\n",
       "island               0\n",
       "culmen_length_mm     0\n",
       "culmen_depth_mm      0\n",
       "flipper_length_mm    0\n",
       "body_mass_g          0\n",
       "sex                  0\n",
       "dtype: int64"
      ]
     },
     "execution_count": 213,
     "metadata": {},
     "output_type": "execute_result"
    }
   ],
   "source": [
    "penguin.isnull().sum()"
   ]
  },
  {
   "cell_type": "code",
   "execution_count": 214,
   "id": "42cd96c4",
   "metadata": {},
   "outputs": [
    {
     "data": {
      "text/html": [
       "<div>\n",
       "<style scoped>\n",
       "    .dataframe tbody tr th:only-of-type {\n",
       "        vertical-align: middle;\n",
       "    }\n",
       "\n",
       "    .dataframe tbody tr th {\n",
       "        vertical-align: top;\n",
       "    }\n",
       "\n",
       "    .dataframe thead th {\n",
       "        text-align: right;\n",
       "    }\n",
       "</style>\n",
       "<table border=\"1\" class=\"dataframe\">\n",
       "  <thead>\n",
       "    <tr style=\"text-align: right;\">\n",
       "      <th></th>\n",
       "      <th>culmen_length_mm</th>\n",
       "      <th>culmen_depth_mm</th>\n",
       "      <th>flipper_length_mm</th>\n",
       "      <th>body_mass_g</th>\n",
       "    </tr>\n",
       "  </thead>\n",
       "  <tbody>\n",
       "    <tr>\n",
       "      <th>count</th>\n",
       "      <td>344.000000</td>\n",
       "      <td>344.000000</td>\n",
       "      <td>344.000000</td>\n",
       "      <td>344.000000</td>\n",
       "    </tr>\n",
       "    <tr>\n",
       "      <th>mean</th>\n",
       "      <td>43.905523</td>\n",
       "      <td>17.150291</td>\n",
       "      <td>200.851744</td>\n",
       "      <td>4199.418605</td>\n",
       "    </tr>\n",
       "    <tr>\n",
       "      <th>std</th>\n",
       "      <td>5.447882</td>\n",
       "      <td>1.969061</td>\n",
       "      <td>14.045266</td>\n",
       "      <td>800.197923</td>\n",
       "    </tr>\n",
       "    <tr>\n",
       "      <th>min</th>\n",
       "      <td>32.100000</td>\n",
       "      <td>13.100000</td>\n",
       "      <td>172.000000</td>\n",
       "      <td>2700.000000</td>\n",
       "    </tr>\n",
       "    <tr>\n",
       "      <th>25%</th>\n",
       "      <td>39.275000</td>\n",
       "      <td>15.600000</td>\n",
       "      <td>190.000000</td>\n",
       "      <td>3550.000000</td>\n",
       "    </tr>\n",
       "    <tr>\n",
       "      <th>50%</th>\n",
       "      <td>44.250000</td>\n",
       "      <td>17.300000</td>\n",
       "      <td>197.000000</td>\n",
       "      <td>4025.000000</td>\n",
       "    </tr>\n",
       "    <tr>\n",
       "      <th>75%</th>\n",
       "      <td>48.500000</td>\n",
       "      <td>18.700000</td>\n",
       "      <td>213.000000</td>\n",
       "      <td>4750.000000</td>\n",
       "    </tr>\n",
       "    <tr>\n",
       "      <th>max</th>\n",
       "      <td>59.600000</td>\n",
       "      <td>21.500000</td>\n",
       "      <td>231.000000</td>\n",
       "      <td>6300.000000</td>\n",
       "    </tr>\n",
       "  </tbody>\n",
       "</table>\n",
       "</div>"
      ],
      "text/plain": [
       "       culmen_length_mm  culmen_depth_mm  flipper_length_mm  body_mass_g\n",
       "count        344.000000       344.000000         344.000000   344.000000\n",
       "mean          43.905523        17.150291         200.851744  4199.418605\n",
       "std            5.447882         1.969061          14.045266   800.197923\n",
       "min           32.100000        13.100000         172.000000  2700.000000\n",
       "25%           39.275000        15.600000         190.000000  3550.000000\n",
       "50%           44.250000        17.300000         197.000000  4025.000000\n",
       "75%           48.500000        18.700000         213.000000  4750.000000\n",
       "max           59.600000        21.500000         231.000000  6300.000000"
      ]
     },
     "execution_count": 214,
     "metadata": {},
     "output_type": "execute_result"
    }
   ],
   "source": [
    "penguin.describe()"
   ]
  },
  {
   "cell_type": "code",
   "execution_count": 215,
   "id": "0aae26b2",
   "metadata": {},
   "outputs": [
    {
     "name": "stdout",
     "output_type": "stream",
     "text": [
      "species               object\n",
      "island                object\n",
      "culmen_length_mm     float64\n",
      "culmen_depth_mm      float64\n",
      "flipper_length_mm    float64\n",
      "body_mass_g          float64\n",
      "sex                   object\n",
      "dtype: object\n"
     ]
    }
   ],
   "source": [
    "print(penguin.dtypes)"
   ]
  },
  {
   "cell_type": "code",
   "execution_count": 216,
   "id": "27100d50",
   "metadata": {},
   "outputs": [],
   "source": [
    "penguin['species'] = pd.Categorical(penguin.species)\n",
    "penguin['island'] = pd.Categorical(penguin.island)\n",
    "penguin['sex'] = pd.Categorical(penguin.sex)"
   ]
  },
  {
   "cell_type": "code",
   "execution_count": 217,
   "id": "be126b9e",
   "metadata": {},
   "outputs": [
    {
     "name": "stdout",
     "output_type": "stream",
     "text": [
      "species              category\n",
      "island               category\n",
      "culmen_length_mm      float64\n",
      "culmen_depth_mm       float64\n",
      "flipper_length_mm     float64\n",
      "body_mass_g           float64\n",
      "sex                  category\n",
      "dtype: object\n"
     ]
    }
   ],
   "source": [
    "print(penguin.dtypes)"
   ]
  },
  {
   "cell_type": "code",
   "execution_count": 218,
   "id": "6c3d3ee3",
   "metadata": {},
   "outputs": [
    {
     "name": "stdout",
     "output_type": "stream",
     "text": [
      "For culmen length, minimum value = 32.1 maximum value = 59.6\n",
      "For culmen depth, minimum value = 13.1 maximum value = 21.5\n",
      "For flipper length, minimum value = 172.0 maximum value = 231.0\n",
      "For body mass, minimum value = 2700.0 maximum value = 6300.0\n"
     ]
    }
   ],
   "source": [
    "clen_min = penguin['culmen_length_mm'].min()\n",
    "clen_max = penguin['culmen_length_mm'].max()\n",
    "\n",
    "cdep_min = penguin['culmen_depth_mm'].min()\n",
    "cdep_max = penguin['culmen_depth_mm'].max()\n",
    "\n",
    "flen_min = penguin['flipper_length_mm'].min()\n",
    "flen_max = penguin['flipper_length_mm'].max()\n",
    "\n",
    "mass_min = penguin['body_mass_g'].min()\n",
    "mass_max = penguin['body_mass_g'].max()\n",
    "\n",
    "print('For culmen length, minimum value =',clen_min ,'maximum value =',clen_max)\n",
    "print('For culmen depth, minimum value =',cdep_min ,'maximum value =',cdep_max)\n",
    "print('For flipper length, minimum value =',flen_min ,'maximum value =',flen_max)\n",
    "print('For body mass, minimum value =',mass_min ,'maximum value =',mass_max)"
   ]
  },
  {
   "cell_type": "code",
   "execution_count": 219,
   "id": "989fd9bf",
   "metadata": {},
   "outputs": [],
   "source": [
    "#normalize function\n",
    "def normalize(value,minimum,maximum):\n",
    "    norm = (value - minimum)/(maximum - minimum)\n",
    "    return(norm)"
   ]
  },
  {
   "cell_type": "code",
   "execution_count": 220,
   "id": "f3cefb19",
   "metadata": {},
   "outputs": [
    {
     "name": "stdout",
     "output_type": "stream",
     "text": [
      "0      0.254545\n",
      "1      0.269091\n",
      "2      0.298182\n",
      "3      0.327273\n",
      "4      0.167273\n",
      "         ...   \n",
      "339    0.327273\n",
      "340    0.534545\n",
      "341    0.665455\n",
      "342    0.476364\n",
      "343    0.647273\n",
      "Name: culmen_length_mm, Length: 344, dtype: float64\n"
     ]
    },
    {
     "name": "stderr",
     "output_type": "stream",
     "text": [
      "C:\\Users\\anude\\AppData\\Local\\Temp/ipykernel_13032/2619956320.py:4: SettingWithCopyWarning: \n",
      "A value is trying to be set on a copy of a slice from a DataFrame\n",
      "\n",
      "See the caveats in the documentation: https://pandas.pydata.org/pandas-docs/stable/user_guide/indexing.html#returning-a-view-versus-a-copy\n",
      "  penguin['culmen_length_mm'][i] = norm_value\n"
     ]
    }
   ],
   "source": [
    "#normalizing culmen_length_mm\n",
    "for i in range(0,344):\n",
    "    norm_value = normalize(penguin['culmen_length_mm'][i],clen_min,clen_max)\n",
    "    penguin['culmen_length_mm'][i] = norm_value\n",
    "\n",
    "print(penguin['culmen_length_mm'])"
   ]
  },
  {
   "cell_type": "code",
   "execution_count": 221,
   "id": "986d506d",
   "metadata": {},
   "outputs": [
    {
     "name": "stdout",
     "output_type": "stream",
     "text": [
      "0      0.666667\n",
      "1      0.511905\n",
      "2      0.583333\n",
      "3      0.464286\n",
      "4      0.738095\n",
      "         ...   \n",
      "339    0.464286\n",
      "340    0.142857\n",
      "341    0.309524\n",
      "342    0.202381\n",
      "343    0.357143\n",
      "Name: culmen_depth_mm, Length: 344, dtype: float64\n"
     ]
    },
    {
     "name": "stderr",
     "output_type": "stream",
     "text": [
      "C:\\Users\\anude\\AppData\\Local\\Temp/ipykernel_13032/2884044617.py:4: SettingWithCopyWarning: \n",
      "A value is trying to be set on a copy of a slice from a DataFrame\n",
      "\n",
      "See the caveats in the documentation: https://pandas.pydata.org/pandas-docs/stable/user_guide/indexing.html#returning-a-view-versus-a-copy\n",
      "  penguin['culmen_depth_mm'][i] = norm_value\n"
     ]
    }
   ],
   "source": [
    "#normalizing culmen_depth_mm\n",
    "for i in range(0,344):\n",
    "    norm_value = normalize(penguin['culmen_depth_mm'][i],cdep_min,cdep_max)\n",
    "    penguin['culmen_depth_mm'][i] = norm_value\n",
    "\n",
    "print(penguin['culmen_depth_mm'])"
   ]
  },
  {
   "cell_type": "code",
   "execution_count": 222,
   "id": "84456961",
   "metadata": {},
   "outputs": [
    {
     "name": "stdout",
     "output_type": "stream",
     "text": [
      "0      0.152542\n",
      "1      0.237288\n",
      "2      0.389831\n",
      "3      0.305085\n",
      "4      0.355932\n",
      "         ...   \n",
      "339    0.305085\n",
      "340    0.728814\n",
      "341    0.847458\n",
      "342    0.677966\n",
      "343    0.694915\n",
      "Name: flipper_length_mm, Length: 344, dtype: float64\n"
     ]
    },
    {
     "name": "stderr",
     "output_type": "stream",
     "text": [
      "C:\\Users\\anude\\AppData\\Local\\Temp/ipykernel_13032/4141225134.py:4: SettingWithCopyWarning: \n",
      "A value is trying to be set on a copy of a slice from a DataFrame\n",
      "\n",
      "See the caveats in the documentation: https://pandas.pydata.org/pandas-docs/stable/user_guide/indexing.html#returning-a-view-versus-a-copy\n",
      "  penguin['flipper_length_mm'][i] = norm_value\n"
     ]
    }
   ],
   "source": [
    "#normalizing flipper_length_mm\n",
    "for i in range(0,344):\n",
    "    norm_value = normalize(penguin['flipper_length_mm'][i],flen_min,flen_max)\n",
    "    penguin['flipper_length_mm'][i] = norm_value\n",
    "\n",
    "print(penguin['flipper_length_mm'])"
   ]
  },
  {
   "cell_type": "code",
   "execution_count": 223,
   "id": "9a431490",
   "metadata": {},
   "outputs": [
    {
     "name": "stdout",
     "output_type": "stream",
     "text": [
      "0      0.291667\n",
      "1      0.305556\n",
      "2      0.152778\n",
      "3      0.305556\n",
      "4      0.208333\n",
      "         ...   \n",
      "339    0.305556\n",
      "340    0.597222\n",
      "341    0.847222\n",
      "342    0.694444\n",
      "343    0.750000\n",
      "Name: body_mass_g, Length: 344, dtype: float64\n"
     ]
    },
    {
     "name": "stderr",
     "output_type": "stream",
     "text": [
      "C:\\Users\\anude\\AppData\\Local\\Temp/ipykernel_13032/2112851355.py:4: SettingWithCopyWarning: \n",
      "A value is trying to be set on a copy of a slice from a DataFrame\n",
      "\n",
      "See the caveats in the documentation: https://pandas.pydata.org/pandas-docs/stable/user_guide/indexing.html#returning-a-view-versus-a-copy\n",
      "  penguin['body_mass_g'][i] = norm_value\n"
     ]
    }
   ],
   "source": [
    "#normalizing body_mass_g\n",
    "for i in range(0,344):\n",
    "    norm_value = normalize(penguin['body_mass_g'][i],mass_min,mass_max)\n",
    "    penguin['body_mass_g'][i] = norm_value\n",
    "\n",
    "print(penguin['body_mass_g'])"
   ]
  },
  {
   "cell_type": "code",
   "execution_count": 268,
   "id": "a8bc7e16",
   "metadata": {
    "scrolled": true
   },
   "outputs": [],
   "source": [
    "traininglen = int(0.8 * len(penguin))  #80% training data and remaining 20% test data\n",
    "testinglen = len(penguin[trainSize:])\n",
    "X_train = np.array(penguin.loc[:, penguin.columns != 'sex'][:traininglen])\n",
    "y_train = np.array(penguin['island'][:traininglen])\n",
    "X_test = np.array(penguin.loc[:, penguin.columns != 'sex'][traininglen:])\n",
    "y_test = np.array(penguin['island'][traininglen:])"
   ]
  },
  {
   "cell_type": "code",
   "execution_count": 270,
   "id": "847f78cf",
   "metadata": {},
   "outputs": [
    {
     "name": "stdout",
     "output_type": "stream",
     "text": [
      "(275, 6)\n",
      "(275,)\n",
      "(69, 6)\n",
      "(69,)\n"
     ]
    }
   ],
   "source": [
    "print(X_train.shape)\n",
    "print(y_train.shape)\n",
    "print(X_test.shape)\n",
    "print(y_test.shape)"
   ]
  },
  {
   "cell_type": "code",
   "execution_count": null,
   "id": "d1f1c409",
   "metadata": {},
   "outputs": [],
   "source": []
  }
 ],
 "metadata": {
  "kernelspec": {
   "display_name": "Python 3 (ipykernel)",
   "language": "python",
   "name": "python3"
  },
  "language_info": {
   "codemirror_mode": {
    "name": "ipython",
    "version": 3
   },
   "file_extension": ".py",
   "mimetype": "text/x-python",
   "name": "python",
   "nbconvert_exporter": "python",
   "pygments_lexer": "ipython3",
   "version": "3.9.7"
  }
 },
 "nbformat": 4,
 "nbformat_minor": 5
}
